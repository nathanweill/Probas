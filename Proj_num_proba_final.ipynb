{
 "cells": [
  {
   "cell_type": "code",
   "execution_count": 120,
   "metadata": {},
   "outputs": [],
   "source": [
    "import numpy as np\n",
    "import numpy.random as rd\n",
    "import matplotlib.pyplot as plt"
   ]
  },
  {
   "cell_type": "markdown",
   "metadata": {},
   "source": [
    "# Enoncé du problème\n",
    "\n",
    "L'objectif de ce projet est d'estimer la longueur de câble sous-marin nécessaire pour relier deux côtes $A$ et $B$  en utilisant des simulations conditionnelles.\n",
    "\n",
    "\n",
    "Le câble reposera sur le fond marin dont la profondeur est inconnue.\n",
    "Le segment $[AB]$ est discrétisé par une séquence de (N+1) points. On pose $x_0=A$ et pour $i=1,\\dots,N$, $$x_i=x_0+i\\Delta$$ où $$\\Delta = \\frac{AB}{N}$$ de telle sorte que $x_N=B$.\n",
    "On note $z(x)$ la profondeur du fond marin au point $x$ de telle sorte \n",
    "qu'on pourra estimer la longueur totale de câble nécessaire par la somme \n",
    "des longueurs sur les segments de la discrétisation :\n",
    "\n",
    "$$l=\\sum_{i=1}^N\\sqrt{\\Delta^2+(z(x_i)-z(x_{i-1}))^2}.$$\n",
    "\n",
    "Enfin, notons que l'on dispose d'un ensemble de $n$ observations de la \n",
    "profondeur que l'on supposera situées sur des points de discrétisation $z(x_{j_1}),\\dots,z(x_{j_n})$.\n",
    "\n",
    "\n",
    "On adopte un modèle probabiliste pour la profondeur. On suppose que le vecteur des \n",
    "profondeurs sur les points de discrétisation \n",
    "$\\mathbf{z}=(z(x_0),\\dots,z(x_N))$ est la réalisation\n",
    "d'un vecteur aléatoire gaussien $\\mathbf{Z}=(Z(x_0),\\dots,Z(x_N))$ \n",
    "dont le vecteur d'espérance ne contient qu'une seule valeur $\\mu$ \n",
    "répétée $N+1$ fois et dont la matrice de covariance $\\Sigma$ a pour termes $\\sigma_{ij}$\n",
    "définis par $\\sigma_{ij}=C(|x_i-x_j|)$ où $C$ est une\n",
    "fonction décroissante, traduisant le fait que deux points \n",
    "géographiquement proches ont tendance à avoir des profondeurs plus similaires que deux points éloignés.\n",
    "\n",
    "On supposera que la matrice de covariance ainsi \n",
    "générée est définie-positive (en fait, $C$ sera choisie parmi les fonctions qui, \n",
    "appliquées aux termes d'une matrice de distance, produisent des matrices définie-positives). \n",
    "\n",
    "Si on note $L$ la variable aléatoire donnant la longueur de cable nécessaire : \n",
    "$$L=\\sum_{i=1}^N\\sqrt{\\Delta^2+(Z(x_i)-Z(x_{i-1}))^2},$$\n",
    "un bon estimateur de $L$ est fourni par l'espérance conditionnelle \n",
    "\n",
    "$$L^\\star=E[L|Z(x_{j_1})=z(x_{j_1}),\\dots,Z(x_{j_n})=z(x_{j_n})].$$\n",
    "                                                                              \n",
    "Cependant, cette quantité est difficilement accessible par le calcul. \n",
    "On va donc avoir recours à des\n",
    "simulations conditionnelles. C'est-à-dire que l'on va simuler \n",
    "un nombre $K$ de réalités (disons des réalisations du modèle \n",
    "probabiliste choisi), et sur chacune d'entre elle, \n",
    "la quantité de câble nécessaire sera évaluée. \n",
    "On disposera ainsi d'un échantillon $l_{(1)},\\dots,l_{(K)}$ de \n",
    "longueures simulées. Puis on approchera l'espérance conditionnelle  par \n",
    "$$L^\\star=\\frac{1}{K}\\sum_{k=1}^K l_{(k)}.$$\n",
    "\n",
    "L'objectif de ce projet est donc d'écrire un code permettant \n",
    "d'effectuer cette simulation conditionnelle, puis de l'appliquer \n",
    "au jeu de données fourni et d'en déduire une estimation de la longueur de câble nécessaire."
   ]
  },
  {
   "cell_type": "markdown",
   "metadata": {},
   "source": [
    "# Questions théoriques\n",
    "\n",
    "1. Quel théorème du cours nous autorise-t-il à estimer l'espérance conditionnelle par la moyenne empirique de simulations conditionnelles ?\n",
    "\n",
    "2. Rappeler la loi conditionnelle du vecteur des composantes de $\\mathbf{Z}$ correspondant aux points de discrétisation\n",
    "sans observation, connaissant les valeurs prises par les composantes aux sites d'observation.\n",
    "\n",
    "3. Si $\\mathbf{Y}=(Y_1,\\dots,Y_p)$ est un vecteur de composantes gaussiennes indépendantes, toutes d'espérance nulle et de variance 1, \n",
    "quelle est la loi du vecteur $\\mathbf{Z}=m+R\\mathbf{Y}$ où $R$ est une matrice $p\\times p$ et $m$ est un vecteur de taille $p$ ?\n",
    "\n",
    "4. En déduire un algorithme de simulation conditionnelle."
   ]
  },
  {
   "cell_type": "markdown",
   "metadata": {},
   "source": [
    "1. C'est la loi des grands nombres (convergence en moyenne et presque sûrement de la moyenne vers l'espérance) qui autorise cette estimation de l'espérance conditionnelle."
   ]
  },
  {
   "cell_type": "markdown",
   "metadata": {},
   "source": [
    "2. On donne la densité conditionnelle du vecteur des composantes de Z correspondant aux points de discrétisation sans observation, qui est un vecteur gaussien d'après le chapitre 4. On obtient la formule suivante en notant Z = (Y,X) où X est la v.a. des points observés et Y celle de ceux non observés, quitte à réarranger l'ordre des composantes de Z : \n",
    "$\\displaystyle f_{Y|X=x}(y)=\\frac{1}{\\sqrt{(2\\pi)^{N-n} det(CS_Y)}}exp(-\\frac{1}{2}(y-\\psi (x))^T CS_Y^{-1} (y-\\psi (x)))$ avec $\\psi (x)=E(Y|X=x)=E(Y) + C_{Y,X}C_X^{-1}(x-E(X)), CS_Y  = C_Y - C_{Y,X}C_Z^{-1}C_{X,Y}$ (complément de\n",
    "Schur) sachant que C est la matrice de covariance de Z que l'on écrit en bloc comme suit : \n",
    "$\\left(\\begin{array}{ccc} C_Y & C_{Y,X} \\\\ C_{X,Y} & C_X  \\end{array}\\right)$."
   ]
  },
  {
   "cell_type": "markdown",
   "metadata": {},
   "source": [
    "3. On rappelle deux propriétés des variables aléatoires gaussiennes : si $X \\hookrightarrow \\mathcal{N}(0,1)$ alors $a+bX \\hookrightarrow \\mathcal{N}(a,b^2)$ et si $X \\hookrightarrow \\mathcal{N}(m_1,\\sigma_1^2)$ et $Y \\hookrightarrow \\mathcal{N}(m_2,\\sigma_2^2)$ sont indépendantes alors $X+Y \\hookrightarrow \\mathcal{N}(m_1 + m_2,\\sigma_1^2+\\sigma_2^2))$. Ainsi, avec $Y=(Y_1, ..., Y_p)$ et $Z=m+RY$ où $\\forall i, Y_i \\hookrightarrow \\mathcal{N}(0,1)$, la jième composante de Z est une combinaison linéaire de composantes de Y $\\displaystyle Z_j = m_j + \\sum_{i} Y_iR_{j,i}$ donc $\\displaystyle Z_j \\hookrightarrow \\mathcal{N}(m_j,\\sum_{i}R_{j,i}^2)$."
   ]
  },
  {
   "cell_type": "markdown",
   "metadata": {},
   "source": [
    "4. Un algorithe de simulation pourrait donc se faire ainsi  :\n",
    "On simule $Y|X=x$ (notation pour la loi de Y sachant X=x) en utilisant la décomposition de Cholesky de sa matrice de covariance (complément de Schur de la matrice de covariance de Z). Pour ce faire, on calcule d'une part cette matrice de covariance et on simule un vecteur aléatoire gaussien U dont les composantes suivent la loi normale centrée réduite avec l'algorithme de Box-Muller (ou en utilisant directement une fonction numpy.random) d'autre part. Enfin, le vecteur $Y_{bis} = m + LU$ suit la loi voulue avec $L$ définie par $CS_Y = LL^T$ et $m$ est le vecteur espérance de composantes toutes égales à $\\mu$."
   ]
  },
  {
   "cell_type": "markdown",
   "metadata": {},
   "source": [
    "# Données du problème\n",
    "Conventionnellement, $A$ est l'origine, $B=500$, $N=100$.\n",
    "\n",
    "Les données $$\\begin{array}{c|r}i & z(x_i)\\\\\n",
    "\\hline\n",
    "0 & 0\\\\\n",
    "20 & -4\\\\\n",
    "40 & -12.8\\\\\n",
    "60 & -1\\\\\n",
    "80 & -6.5\\\\\n",
    "100 & 0\\end{array}$$\n",
    "\n",
    "L'espérance de chaque composante du vecteur aléatoire $\\mathbf{Z}$ est donnée par $\\mu=-5.$\n",
    "\n",
    "La fonction $C$ est définie par $$C(h)=\\sigma^2 e^{-|h|/a},$$\n",
    "\n",
    "où $|h|$ correspond à la distance entre deux points, $a=50$ et $\\sigma^2=12$.\n"
   ]
  },
  {
   "cell_type": "markdown",
   "metadata": {},
   "source": [
    "# Implémentation"
   ]
  },
  {
   "cell_type": "markdown",
   "metadata": {},
   "source": [
    "## Préambule"
   ]
  },
  {
   "cell_type": "code",
   "execution_count": 121,
   "metadata": {},
   "outputs": [],
   "source": [
    "# Chargement de dépendances\n",
    "\n",
    "import numpy as np\n",
    "import matplotlib.pyplot as plt\n",
    "\n",
    "# Discrétisation\n",
    "A = 0\n",
    "B = 500\n",
    "N = 101  # Nombre de points de discrétisation\n",
    "Delta = (B - A) / 100\n",
    "discretization_indexes = np.arange(N)\n",
    "discretization = discretization_indexes * Delta\n",
    "# Paramètres du modèle\n",
    "\n",
    "mu = -5\n",
    "a = 50\n",
    "sigma2 = 12\n",
    "\n",
    "# Données\n",
    "\n",
    "observation_indexes = [0, 20, 40, 60, 80, 100]\n",
    "depth = np.array([0, -4, -12.8, -1, -6.5, 0])\n",
    "\n",
    "# Indices des composantes correspondant aux observations et aux componsantes non observées\n",
    "\n",
    "unknown_indexes = list(set(discretization_indexes) - set(observation_indexes))"
   ]
  },
  {
   "cell_type": "markdown",
   "metadata": {},
   "source": [
    "## Questions\n",
    "\n",
    "1. Ecrire une fonction qui prend en argument la distance entre les points, le paramètre $a$, et le paramètre $\\sigma^2$, et qui retourne la covariance entre deux points.\n",
    "On pourra fournir une matrice de distance à cette fonction. Dans ce cas, la fonction renverra la matrice de covariance."
   ]
  },
  {
   "cell_type": "code",
   "execution_count": 122,
   "metadata": {},
   "outputs": [],
   "source": [
    "def cov(h, a, sigma2):\n",
    "    return sigma2 * np.exp(-np.abs(h) / a)\n",
    "\n",
    "\n",
    "Cov = np.vectorize(cov)"
   ]
  },
  {
   "cell_type": "markdown",
   "metadata": {},
   "source": [
    "2. Calculer la matrice de distance."
   ]
  },
  {
   "cell_type": "code",
   "execution_count": 123,
   "metadata": {},
   "outputs": [
    {
     "name": "stdout",
     "output_type": "stream",
     "text": [
      "[[  0.   5.  10. ... 490. 495. 500.]\n",
      " [  5.   0.   5. ... 485. 490. 495.]\n",
      " [ 10.   5.   0. ... 480. 485. 490.]\n",
      " ...\n",
      " [490. 485. 480. ...   0.   5.  10.]\n",
      " [495. 490. 485. ...   5.   0.   5.]\n",
      " [500. 495. 490. ...  10.   5.   0.]]\n"
     ]
    }
   ],
   "source": [
    "matrice_dist = np.array(\n",
    "    [\n",
    "        [np.abs(discretization[i] - discretization[j]) for i in range(N)]\n",
    "        for j in range(N)\n",
    "    ]\n",
    ")\n",
    "print(matrice_dist)"
   ]
  },
  {
   "cell_type": "markdown",
   "metadata": {},
   "source": [
    "3. Calculer la matrice de covariance du vecteur $\\mathbf{Z}=(Z(x_0),\\dots,Z(x_N))$."
   ]
  },
  {
   "cell_type": "code",
   "execution_count": 124,
   "metadata": {},
   "outputs": [
    {
     "name": "stdout",
     "output_type": "stream",
     "text": [
      "[[1.20000000e+01 1.08580490e+01 9.82476904e+00 ... 6.65419193e-04\n",
      "  6.02096185e-04 5.44799157e-04]\n",
      " [1.08580490e+01 1.20000000e+01 1.08580490e+01 ... 7.35401941e-04\n",
      "  6.65419193e-04 6.02096185e-04]\n",
      " [9.82476904e+00 1.08580490e+01 1.20000000e+01 ... 8.12744838e-04\n",
      "  7.35401941e-04 6.65419193e-04]\n",
      " ...\n",
      " [6.65419193e-04 7.35401941e-04 8.12744838e-04 ... 1.20000000e+01\n",
      "  1.08580490e+01 9.82476904e+00]\n",
      " [6.02096185e-04 6.65419193e-04 7.35401941e-04 ... 1.08580490e+01\n",
      "  1.20000000e+01 1.08580490e+01]\n",
      " [5.44799157e-04 6.02096185e-04 6.65419193e-04 ... 9.82476904e+00\n",
      "  1.08580490e+01 1.20000000e+01]]\n"
     ]
    }
   ],
   "source": [
    "matrice_cov = Cov(matrice_dist, a, sigma2)\n",
    "print(matrice_cov)"
   ]
  },
  {
   "cell_type": "markdown",
   "metadata": {},
   "source": [
    "4. Extraire les 3 matrices de covariance suivantes :\n",
    "\n",
    " * entre les observations\n",
    "\n",
    " * entre les observations et les inconnues\n",
    "\n",
    " * entre les inconnues\n"
   ]
  },
  {
   "cell_type": "code",
   "execution_count": 125,
   "metadata": {},
   "outputs": [
    {
     "name": "stdout",
     "output_type": "stream",
     "text": [
      "(6, 6)\n",
      "(95, 95)\n",
      "(6, 95)\n"
     ]
    }
   ],
   "source": [
    "C_observation = np.array(\n",
    "    [[matrice_cov[i, j] for i in observation_indexes] for j in observation_indexes]\n",
    ")\n",
    "C_inconnue = np.array(\n",
    "    [[matrice_cov[i, j] for i in unknown_indexes] for j in unknown_indexes]\n",
    ")\n",
    "C_incobs = np.array(\n",
    "    [[matrice_cov[i, j] for i in unknown_indexes] for j in observation_indexes]\n",
    ")\n",
    "\n",
    "print(np.shape(C_observation))\n",
    "print(np.shape(C_inconnue))\n",
    "print(np.shape(C_incobs))"
   ]
  },
  {
   "cell_type": "markdown",
   "metadata": {},
   "source": [
    "5. Calculer l'espérance conditionnelle des composantes non observées connaissant les observations et la représenter avec les données."
   ]
  },
  {
   "cell_type": "code",
   "execution_count": 126,
   "metadata": {},
   "outputs": [
    {
     "name": "stdout",
     "output_type": "stream",
     "text": [
      "(95,)\n"
     ]
    },
    {
     "data": {
      "image/png": "[encoded data removed]",
      "text/plain": [
       "<Figure size 432x288 with 1 Axes>"
      ]
     },
     "metadata": {
      "needs_background": "light"
     },
     "output_type": "display_data"
    }
   ],
   "source": [
    "psi = mu + np.dot(\n",
    "    np.dot(np.matrix.transpose(C_incobs), np.linalg.inv(C_observation)), depth - mu\n",
    ")\n",
    "# def f(x):\n",
    "#    return np.exp(-0.5 * np.dot(np.matrix.transpose(y-psi), np.linalg.inv(Schur), y-psi) * (2*np.pi*np.linalg.det(Schur))**(-0.5))\n",
    "# def g(x):\n",
    "#    return x * f(x)\n",
    "# cf. formule donnée dans les réponses aux questions théoriques\n",
    "\n",
    "print(np.shape(psi))\n",
    "\n",
    "plt.scatter(unknown_indexes, psi)\n",
    "plt.scatter(observation_indexes, depth)\n",
    "plt.show()"
   ]
  },
  {
   "cell_type": "markdown",
   "metadata": {},
   "source": [
    "### Commentaire : \n",
    "Cela donne une représentation directe du fond de l'océan, on voit qu'il y a deux 'trous' successifs. On remarque aussi l'importance des points connus (observations) : si l'échantillon est mal choisi (tout plat par exemple), cela donne une vision erronée de la réalité"
   ]
  },
  {
   "cell_type": "markdown",
   "metadata": {},
   "source": [
    "6. Calculer la matrice de covariance conditionnelle et tracer sa diagonale (variance conditionnelle) en fonction de la position. Commenter."
   ]
  },
  {
   "cell_type": "code",
   "execution_count": 127,
   "metadata": {},
   "outputs": [
    {
     "data": {
      "image/png": "[encoded data removed]",
      "text/plain": [
       "<Figure size 432x288 with 1 Axes>"
      ]
     },
     "metadata": {
      "needs_background": "light"
     },
     "output_type": "display_data"
    }
   ],
   "source": [
    "# la matrice de covaraince conditionnelle est le complément de Schur de la matrice de covariance initiale\n",
    "\n",
    "Schur = C_inconnue - np.dot(\n",
    "    np.matrix.transpose(C_incobs), np.dot(np.linalg.inv(C_observation), C_incobs)\n",
    ")\n",
    "\n",
    "V = [Schur[i, i] for i in range(len(Schur))]\n",
    "pos = [i * Delta for i in unknown_indexes]\n",
    "plt.scatter(pos, V)\n",
    "plt.show()"
   ]
  },
  {
   "cell_type": "markdown",
   "metadata": {},
   "source": [
    "La variance est relativement élevée pour les points les plus éloignés de ceux observés, ce qui témoigne d'une certaine dispersion. Au contraire, elle est très faible vers les points connus ! (Vaudrait 1 pour avoir la fonction complètée)."
   ]
  },
  {
   "cell_type": "markdown",
   "metadata": {},
   "source": [
    "7. Effectuer une simulation conditionnelle. Sur un même graphique, tracer la simulation ainsi que les données et l'espérance conditionnelle. Commenter."
   ]
  },
  {
   "cell_type": "code",
   "execution_count": 128,
   "metadata": {},
   "outputs": [
    {
     "data": {
      "image/png": "[encoded data removed]",
      "text/plain": [
       "<Figure size 432x288 with 1 Axes>"
      ]
     },
     "metadata": {
      "needs_background": "light"
     },
     "output_type": "display_data"
    },
    {
     "name": "stdout",
     "output_type": "stream",
     "text": [
      "95\n"
     ]
    }
   ],
   "source": [
    "# simulation d'un vecteur gaussien\n",
    "\n",
    "L = np.linalg.cholesky(Schur)\n",
    "p = len(Schur) # p = N-n\n",
    "U = rd.normal(0, 1, p)\n",
    "Ybis = psi + np.dot(L, U)\n",
    "\n",
    "plt.scatter(unknown_indexes, psi) # on utilise scatter pour mieux observer la dispersion des points aléatoires\n",
    "plt.scatter(unknown_indexes, Ybis)\n",
    "plt.scatter(observation_indexes, depth)\n",
    "plt.show()\n",
    "print(p)"
   ]
  },
  {
   "cell_type": "markdown",
   "metadata": {},
   "source": [
    "La simulation est très dispersée, cela n'a pas l'air de très bien fonctionner en un seul tirage : d'où l'intérêt de faire une moyenne de plusieurs simulations."
   ]
  },
  {
   "cell_type": "code",
   "execution_count": 129,
   "metadata": {},
   "outputs": [],
   "source": [
    "def sim():  # fait une simulation de vecteur des profondeurs sans oublier les points observés\n",
    "    L = np.linalg.cholesky(Schur)\n",
    "    p = len(Schur)\n",
    "    U = rd.normal(0, 1, p)\n",
    "    Ybis = psi + np.dot(L, U)\n",
    "    Z = [0] * 101\n",
    "    for i, j in zip(observation_indexes, depth):\n",
    "        Z[i] = j\n",
    "    for i, j in zip(unknown_indexes, Ybis):\n",
    "        Z[i] = j\n",
    "    return np.array(Z)"
   ]
  },
  {
   "cell_type": "markdown",
   "metadata": {},
   "source": [
    "8. Ecrire une fonction qui calcule la longueur du câble en fonction du vecteur des profondeurs et du pas de discrétisation."
   ]
  },
  {
   "cell_type": "code",
   "execution_count": 130,
   "metadata": {},
   "outputs": [
    {
     "name": "stdout",
     "output_type": "stream",
     "text": [
      "524.182483716429\n"
     ]
    }
   ],
   "source": [
    "Z = sim()\n",
    "\n",
    "\n",
    "def longueur(Z):\n",
    "    l = [np.sqrt(Delta ** 2 + (Z[i] - Z[i - 1]) ** 2) for i in range(1, 101)]\n",
    "    L = sum(l)\n",
    "    return L\n",
    "\n",
    "\n",
    "print(longueur(Z))"
   ]
  },
  {
   "cell_type": "markdown",
   "metadata": {},
   "source": [
    "9. Utiliser cette fonction pour calculer la longueur du câble à partir de 100 simulations. Comparer l'espérance conditionnelle (estimée) de la longueur avec la longueur de l'espérance conditionnelle."
   ]
  },
  {
   "cell_type": "code",
   "execution_count": 131,
   "metadata": {},
   "outputs": [],
   "source": [
    "def tirage(n):  # réalise un tirage de n longueurs\n",
    "    ZZ = []\n",
    "    for k in range(n):\n",
    "        Z = sim()\n",
    "        ZZ.append(longueur(Z))\n",
    "    return ZZ"
   ]
  },
  {
   "cell_type": "code",
   "execution_count": 132,
   "metadata": {},
   "outputs": [
    {
     "name": "stdout",
     "output_type": "stream",
     "text": [
      "522.4304738764276\n",
      "522.3000906971906\n",
      "508.3666634621549\n"
     ]
    }
   ],
   "source": [
    "def longueur_selon_sim(n):\n",
    "    ZZ = tirage(n)\n",
    "    LL = sum(ZZ) / n\n",
    "    return LL\n",
    "\n",
    "\n",
    "print(longueur_selon_sim(100))\n",
    "print(longueur_selon_sim(1000))\n",
    "\n",
    "\n",
    "# longueur de l'espérance conditionnelle\n",
    "psibis = np.array([0] * 101)\n",
    "for i, j in zip(observation_indexes, depth):\n",
    "    psibis[i] = j\n",
    "for i, j in zip(unknown_indexes, psi):\n",
    "    psibis[i] = j\n",
    "\n",
    "print(sum([np.sqrt(Delta ** 2 + (psibis[i] - psibis[i - 1]) ** 2) for i in range(101)]))"
   ]
  },
  {
   "cell_type": "markdown",
   "metadata": {},
   "source": [
    "La longueur de l'espérance conditionnelle est naturellement plus petite que l'espérance conditionnelle de la longueur étant donné que les points du vecteur espérance sont répartis assez régulièrement, ce qui résulte en un écart de profondeur plus petit."
   ]
  },
  {
   "cell_type": "markdown",
   "metadata": {},
   "source": [
    "10. Représenter la suite $M_n$ des moyennes des longueurs de câbles en fonction du nombre de simulations. Commenter."
   ]
  },
  {
   "cell_type": "code",
   "execution_count": 133,
   "metadata": {},
   "outputs": [
    {
     "data": {
      "image/png": "[encoded data removed]",
      "text/plain": [
       "<Figure size 432x288 with 1 Axes>"
      ]
     },
     "metadata": {
      "needs_background": "light"
     },
     "output_type": "display_data"
    }
   ],
   "source": [
    "N = [1, 10, 100, 1000, 10000, 100000]\n",
    "LLL = [longueur_selon_sim(n) for n in N]\n",
    "\n",
    "plt.plot(N, LLL)\n",
    "plt.show()"
   ]
  },
  {
   "cell_type": "markdown",
   "metadata": {},
   "source": [
    "Ce graphe illustre bien la convergence vers une moyenne pour un grand nombre de simulations, en accord avec la loi des grands nombres. "
   ]
  },
  {
   "cell_type": "markdown",
   "metadata": {},
   "source": [
    "11. Représenter l'histogramme des longueurs de câbles générées."
   ]
  },
  {
   "cell_type": "code",
   "execution_count": 134,
   "metadata": {
    "scrolled": true
   },
   "outputs": [
    {
     "data": {
      "text/plain": [
       "(array([0.03929098, 0.        , 0.        , 0.        , 0.03929098,\n",
       "        0.        , 0.        , 0.11787295, 0.03929098, 0.        ,\n",
       "        0.03929098, 0.11787295, 0.07858197, 0.        , 0.07858197,\n",
       "        0.11787295, 0.03929098, 0.11787295, 0.03929098, 0.15716394,\n",
       "        0.11787295, 0.11787295, 0.11787295, 0.15716394, 0.11787295,\n",
       "        0.27503689, 0.15716394, 0.11787295, 0.19645492, 0.15716394,\n",
       "        0.07858197, 0.19645492, 0.11787295, 0.03929098, 0.11787295,\n",
       "        0.03929098, 0.07858197, 0.03929098, 0.11787295, 0.07858197,\n",
       "        0.        , 0.03929098, 0.03929098, 0.03929098, 0.03929098,\n",
       "        0.        , 0.07858197, 0.15716394, 0.        , 0.07858197]),\n",
       " array([515.40647829, 515.6609896 , 515.91550091, 516.17001222,\n",
       "        516.42452353, 516.67903483, 516.93354614, 517.18805745,\n",
       "        517.44256876, 517.69708007, 517.95159138, 518.20610269,\n",
       "        518.460614  , 518.71512531, 518.96963662, 519.22414793,\n",
       "        519.47865924, 519.73317054, 519.98768185, 520.24219316,\n",
       "        520.49670447, 520.75121578, 521.00572709, 521.2602384 ,\n",
       "        521.51474971, 521.76926102, 522.02377233, 522.27828364,\n",
       "        522.53279494, 522.78730625, 523.04181756, 523.29632887,\n",
       "        523.55084018, 523.80535149, 524.0598628 , 524.31437411,\n",
       "        524.56888542, 524.82339673, 525.07790804, 525.33241934,\n",
       "        525.58693065, 525.84144196, 526.09595327, 526.35046458,\n",
       "        526.60497589, 526.8594872 , 527.11399851, 527.36850982,\n",
       "        527.62302113, 527.87753244, 528.13204375]),\n",
       " <a list of 50 Patch objects>)"
      ]
     },
     "execution_count": 134,
     "metadata": {},
     "output_type": "execute_result"
    },
    {
     "data": {
      "image/png": "[encoded data removed]",
      "text/plain": [
       "<Figure size 432x288 with 1 Axes>"
      ]
     },
     "metadata": {
      "needs_background": "light"
     },
     "output_type": "display_data"
    }
   ],
   "source": [
    "# Histogramme pour la formule de base de la question 8\n",
    "\n",
    "ZZ = tirage(100)\n",
    "\n",
    "plt.hist(np.array(ZZ), bins=50, density=True, label=\"Data\")"
   ]
  },
  {
   "cell_type": "code",
   "execution_count": 135,
   "metadata": {},
   "outputs": [
    {
     "data": {
      "text/plain": [
       "(array([0.34452131, 0.        , 0.        , 0.        , 0.        ,\n",
       "        0.        , 0.        , 0.        , 0.34452131, 0.        ,\n",
       "        0.        , 0.        , 0.34452131, 1.03356393, 1.03356393,\n",
       "        1.03356393, 0.68904262, 0.34452131, 1.03356393, 1.03356393,\n",
       "        1.72260654, 0.68904262, 0.68904262, 1.72260654, 1.03356393,\n",
       "        0.68904262, 0.68904262, 1.37808523, 1.72260654, 1.72260654,\n",
       "        1.37808523, 1.37808523, 1.72260654, 1.72260654, 0.68904262,\n",
       "        0.34452131, 1.37808523, 1.37808523, 0.34452131, 0.68904262,\n",
       "        0.68904262, 0.34452131, 0.34452131, 1.37808523, 0.        ,\n",
       "        0.34452131, 0.34452131, 0.34452131, 0.        , 0.34452131]),\n",
       " array([521.59428296, 521.62330874, 521.65233452, 521.6813603 ,\n",
       "        521.71038608, 521.73941186, 521.76843764, 521.79746342,\n",
       "        521.82648921, 521.85551499, 521.88454077, 521.91356655,\n",
       "        521.94259233, 521.97161811, 522.00064389, 522.02966967,\n",
       "        522.05869545, 522.08772123, 522.11674701, 522.1457728 ,\n",
       "        522.17479858, 522.20382436, 522.23285014, 522.26187592,\n",
       "        522.2909017 , 522.31992748, 522.34895326, 522.37797904,\n",
       "        522.40700482, 522.4360306 , 522.46505638, 522.49408217,\n",
       "        522.52310795, 522.55213373, 522.58115951, 522.61018529,\n",
       "        522.63921107, 522.66823685, 522.69726263, 522.72628841,\n",
       "        522.75531419, 522.78433997, 522.81336575, 522.84239154,\n",
       "        522.87141732, 522.9004431 , 522.92946888, 522.95849466,\n",
       "        522.98752044, 523.01654622, 523.045572  ]),\n",
       " <a list of 50 Patch objects>)"
      ]
     },
     "execution_count": 135,
     "metadata": {},
     "output_type": "execute_result"
    },
    {
     "data": {
      "image/png": "[encoded data removed]",
      "text/plain": [
       "<Figure size 432x288 with 1 Axes>"
      ]
     },
     "metadata": {
      "needs_background": "light"
     },
     "output_type": "display_data"
    }
   ],
   "source": [
    "# Histogramme avec le calcul de la question 9 (on obtient évidemment un histogramme très centré sur la moyenne)\n",
    "\n",
    "H = [longueur_selon_sim(100) for k in range(100)]\n",
    "\n",
    "plt.hist(np.array(H), bins=50, density=True, label=\"Data\")"
   ]
  },
  {
   "cell_type": "markdown",
   "metadata": {},
   "source": [
    "12. Donner un intervalle de confiance à 95% de la longueur du câble par 2 méthodes différentes. Commenter."
   ]
  },
  {
   "cell_type": "markdown",
   "metadata": {},
   "source": [
    "* Méthode 1\n",
    "\n",
    "On utilise le théorème centrale limite pour utiliser la formule de l'intervalle de confiance d'une loi normale comme approximation : \n",
    "$ \\displaystyle I=[m-1.96\\sigma; m+1.96\\sigma]$ "
   ]
  },
  {
   "cell_type": "code",
   "execution_count": 153,
   "metadata": {},
   "outputs": [
    {
     "name": "stdout",
     "output_type": "stream",
     "text": [
      "[516.9283133043537 ; 526.5265756025069]\n"
     ]
    }
   ],
   "source": [
    "def moyenne(tableau):\n",
    "    return sum(tableau, 0.0) / len(tableau)\n",
    "\n",
    "\n",
    "def variance(tableau):\n",
    "    m = moyenne(tableau)\n",
    "    return moyenne([(x - m) ** 2 for x in tableau])\n",
    "\n",
    "\n",
    "def ecartype(tableau):\n",
    "    return variance(tableau) ** 0.5\n",
    "\n",
    "\n",
    "m_confiance = moyenne(ZZ)\n",
    "sigma_confiance = ecartype(ZZ)\n",
    "print(f\"[{m_confiance - 1.96*sigma_confiance} ; {m_confiance + 1.96*sigma_confiance}]\")"
   ]
  },
  {
   "cell_type": "markdown",
   "metadata": {},
   "source": [
    "* Méthode 2 : On calcule \"à la main\" avec Python un intervalle de confiance."
   ]
  },
  {
   "cell_type": "code",
   "execution_count": 154,
   "metadata": {},
   "outputs": [
    {
     "name": "stdout",
     "output_type": "stream",
     "text": [
      "[517.2152633780786, 527.6878708113743]\n"
     ]
    }
   ],
   "source": [
    "# on fait 20 fois des tirages de 100 valeurs et on enlève les 5 valeurs les plus éloignées de la moyenne\n",
    "# on stocke ensuite les valeurs extrêmales de l'intervalle trouvé à chaque fois et on en fait la moyenne\n",
    "\n",
    "T = []\n",
    "for i in range(20):\n",
    "    ZZ = tirage(100)\n",
    "    ZZ.sort()\n",
    "    for j in range(5):\n",
    "        if abs(moyenne(ZZ) - ZZ[0]) <= abs(moyenne(ZZ) - ZZ[-1]):\n",
    "            ZZ.pop()\n",
    "        else:\n",
    "            del ZZ[0]\n",
    "    T.append((ZZ[0], ZZ[-1]))\n",
    "s1 = moyenne([x[0] for x in T])\n",
    "s2 = moyenne([x[1] for x in T])\n",
    "\n",
    "print(f\"[{s1}, {s2}]\")  # s1 et s2 donnent les bornes de l'intervalle de confiance"
   ]
  },
  {
   "cell_type": "markdown",
   "metadata": {},
   "source": [
    "L'intervalle obtenu est très proche de celui obtenu par la formule théorique approchée, c'est donc satisfaisant.\n",
    "Cela signifie qu'environ 95% des longueurs tirées sont située dans cet intervalle. On obtient donc finalement une estimation assez précise de la longueur de câble à utiliser."
   ]
  },
  {
   "cell_type": "markdown",
   "metadata": {},
   "source": [
    "13. Donner une estimation de la probabilité que la longueur du câble dépasse 525 m."
   ]
  },
  {
   "cell_type": "markdown",
   "metadata": {},
   "source": [
    "En première piste, on avait pensé à donner une estimation de cette probabilité en l'identifiant avec le majorant donné par l'inégalité de Markov $\\displaystyle P(X\\geq x)\\leq \\frac{E(X)^p}{x^p}$ avec p le plus élevé possible selon l'intégrabilité de la variable aléatoire. Mais cette approche est mauvaise car on a aucune idée de l'écart avec le majorant ou encore de la valeur de p. On a donc préféré recourir directement à une simulation Python.\n"
   ]
  },
  {
   "cell_type": "code",
   "execution_count": 155,
   "metadata": {},
   "outputs": [
    {
     "name": "stdout",
     "output_type": "stream",
     "text": [
      "0.17439999999999903\n"
     ]
    }
   ],
   "source": [
    "from random import *\n",
    "\n",
    "Zp = tirage(100)\n",
    "S = 0\n",
    "for n in range(1000):\n",
    "    pourcentage = len([v for v in sample(Zp, 10) if v >= 525]) / 10\n",
    "    S += pourcentage\n",
    "S = S / 1000\n",
    "\n",
    "print(S)"
   ]
  },
  {
   "cell_type": "code",
   "execution_count": 156,
   "metadata": {},
   "outputs": [
    {
     "name": "stdout",
     "output_type": "stream",
     "text": [
      "0.13\n"
     ]
    }
   ],
   "source": [
    "# Plus simplement :\n",
    "\n",
    "Zpp = tirage(100)\n",
    "print(len([v for v in Zpp if v >= 525]) / 100)"
   ]
  },
  {
   "cell_type": "markdown",
   "metadata": {},
   "source": [
    "14. Reprendre les questions précédentes avec 1000, 10000 puis 100000 simulations. Commenter."
   ]
  },
  {
   "cell_type": "markdown",
   "metadata": {},
   "source": [
    "Plus le nombre de simulations augmente, moins les valeurs obtenues changent (convergence) d'où une estimation de plus en plus précise des valeurs recherchées (notamment la probabilité)."
   ]
  },
  {
   "cell_type": "markdown",
   "metadata": {},
   "source": [
    "1. Avec 1000 simulations."
   ]
  },
  {
   "cell_type": "code",
   "execution_count": 140,
   "metadata": {},
   "outputs": [
    {
     "data": {
      "text/plain": [
       "(array([0.00275379, 0.00275379, 0.00550758, 0.        , 0.01101517,\n",
       "        0.01652275, 0.02478413, 0.03304551, 0.03029171, 0.06058343,\n",
       "        0.05507584, 0.08812135, 0.1046441 , 0.10189031, 0.0715986 ,\n",
       "        0.1046441 , 0.08812135, 0.11290548, 0.13218203, 0.09362894,\n",
       "        0.15145857, 0.16522753, 0.1431972 , 0.11565927, 0.1431972 ,\n",
       "        0.13218203, 0.11841307, 0.1073979 , 0.08261377, 0.06333722,\n",
       "        0.05507584, 0.06609101, 0.04130688, 0.04130688, 0.0357993 ,\n",
       "        0.02478413, 0.03029171, 0.02203034, 0.01652275, 0.01376896,\n",
       "        0.01101517, 0.01101517, 0.00550758, 0.00550758, 0.00550758,\n",
       "        0.        , 0.        , 0.        , 0.        , 0.00550758]),\n",
       " array([514.70734816, 515.07048376, 515.43361937, 515.79675497,\n",
       "        516.15989057, 516.52302618, 516.88616178, 517.24929738,\n",
       "        517.61243298, 517.97556859, 518.33870419, 518.70183979,\n",
       "        519.0649754 , 519.428111  , 519.7912466 , 520.1543822 ,\n",
       "        520.51751781, 520.88065341, 521.24378901, 521.60692462,\n",
       "        521.97006022, 522.33319582, 522.69633142, 523.05946703,\n",
       "        523.42260263, 523.78573823, 524.14887383, 524.51200944,\n",
       "        524.87514504, 525.23828064, 525.60141625, 525.96455185,\n",
       "        526.32768745, 526.69082305, 527.05395866, 527.41709426,\n",
       "        527.78022986, 528.14336547, 528.50650107, 528.86963667,\n",
       "        529.23277227, 529.59590788, 529.95904348, 530.32217908,\n",
       "        530.68531469, 531.04845029, 531.41158589, 531.77472149,\n",
       "        532.1378571 , 532.5009927 , 532.8641283 ]),\n",
       " <a list of 50 Patch objects>)"
      ]
     },
     "execution_count": 140,
     "metadata": {},
     "output_type": "execute_result"
    },
    {
     "data": {
      "image/png": "[encoded data removed]",
      "text/plain": [
       "<Figure size 432x288 with 1 Axes>"
      ]
     },
     "metadata": {
      "needs_background": "light"
     },
     "output_type": "display_data"
    }
   ],
   "source": [
    "Z_mille = tirage(1000)\n",
    "\n",
    "\n",
    "plt.hist(np.array(Z_mille), bins=50, density=True, label=\"Data\")"
   ]
  },
  {
   "cell_type": "code",
   "execution_count": 157,
   "metadata": {},
   "outputs": [
    {
     "name": "stdout",
     "output_type": "stream",
     "text": [
      "[515.8603380488048 ; 528.150553187791]\n"
     ]
    }
   ],
   "source": [
    "# on utilise que la première méthode puisque la deuxième demande plus de complexité\n",
    "\n",
    "m_confiancebisbis = moyenne(Z_mille)\n",
    "sigma_confiancebisbis = ecartype(Z_mille)\n",
    "\n",
    "print(\n",
    "    f\"[{m_confiancebis - 1.96*sigma_confiancebis} ; {m_confiancebis + 1.96*sigma_confiancebis}]\"\n",
    ")"
   ]
  },
  {
   "cell_type": "code",
   "execution_count": 142,
   "metadata": {},
   "outputs": [
    {
     "name": "stdout",
     "output_type": "stream",
     "text": [
      "0.18801800000000032\n"
     ]
    }
   ],
   "source": [
    "from random import *\n",
    "\n",
    "Zp = tirage(10000)\n",
    "S = 0\n",
    "for n in range(1000):\n",
    "    pourcentage = len([v for v in sample(Zp, 1000) if v >= 525]) / 1000\n",
    "    S += pourcentage\n",
    "S = S / 1000\n",
    "\n",
    "print(S)"
   ]
  },
  {
   "cell_type": "code",
   "execution_count": 160,
   "metadata": {},
   "outputs": [
    {
     "name": "stdout",
     "output_type": "stream",
     "text": [
      "0.186\n"
     ]
    }
   ],
   "source": [
    "print(len([v for v in Z_mille if v>=525])/1000)"
   ]
  },
  {
   "cell_type": "markdown",
   "metadata": {},
   "source": [
    "2. Avec 10000"
   ]
  },
  {
   "cell_type": "code",
   "execution_count": 144,
   "metadata": {},
   "outputs": [
    {
     "data": {
      "text/plain": [
       "(array([0.00120942, 0.00024188, 0.00096754, 0.00266073, 0.00435392,\n",
       "        0.00774029, 0.01015914, 0.01402928, 0.02104393, 0.02805857,\n",
       "        0.03894336, 0.04619988, 0.06022917, 0.08320817, 0.08465947,\n",
       "        0.10280079, 0.1117505 , 0.12529602, 0.1255379 , 0.13593892,\n",
       "        0.13835776, 0.14150226, 0.13642269, 0.13424573, 0.12311906,\n",
       "        0.10884789, 0.10594528, 0.0873202 , 0.08393382, 0.07208149,\n",
       "        0.05732656, 0.04499046, 0.03942712, 0.02781668, 0.02805857,\n",
       "        0.02249523, 0.01572247, 0.01136856, 0.00870783, 0.00943348,\n",
       "        0.00483768, 0.00266073, 0.00241884, 0.00193507, 0.00290261,\n",
       "        0.00072565, 0.        , 0.00024188, 0.00072565, 0.00024188]),\n",
       " array([513.4584157 , 513.87183667, 514.28525763, 514.6986786 ,\n",
       "        515.11209956, 515.52552053, 515.93894149, 516.35236246,\n",
       "        516.76578342, 517.17920439, 517.59262535, 518.00604632,\n",
       "        518.41946728, 518.83288825, 519.24630921, 519.65973018,\n",
       "        520.07315114, 520.4865721 , 520.89999307, 521.31341403,\n",
       "        521.726835  , 522.14025596, 522.55367693, 522.96709789,\n",
       "        523.38051886, 523.79393982, 524.20736079, 524.62078175,\n",
       "        525.03420272, 525.44762368, 525.86104465, 526.27446561,\n",
       "        526.68788658, 527.10130754, 527.51472851, 527.92814947,\n",
       "        528.34157043, 528.7549914 , 529.16841236, 529.58183333,\n",
       "        529.99525429, 530.40867526, 530.82209622, 531.23551719,\n",
       "        531.64893815, 532.06235912, 532.47578008, 532.88920105,\n",
       "        533.30262201, 533.71604298, 534.12946394]),\n",
       " <a list of 50 Patch objects>)"
      ]
     },
     "execution_count": 144,
     "metadata": {},
     "output_type": "execute_result"
    },
    {
     "data": {
      "image/png": "[encoded data removed]",
      "text/plain": [
       "<Figure size 432x288 with 1 Axes>"
      ]
     },
     "metadata": {
      "needs_background": "light"
     },
     "output_type": "display_data"
    }
   ],
   "source": [
    "Z_dixmille = tirage(10000)\n",
    "\n",
    "\n",
    "plt.hist(np.array(Z_dixmille), bins=50, density=True, label=\"Data\")"
   ]
  },
  {
   "cell_type": "code",
   "execution_count": 158,
   "metadata": {},
   "outputs": [
    {
     "name": "stdout",
     "output_type": "stream",
     "text": [
      "[516.8188381553512 ; 528.0532223294372]\n"
     ]
    }
   ],
   "source": [
    "m_confiancebisbis = moyenne(Z_dixmille)\n",
    "sigma_confiancebisbis = ecartype(Z_dixmille)\n",
    "\n",
    "print(\n",
    "    f\"[{m_confiancebisbis - 1.96*sigma_confiancebisbis} ; {m_confiancebisbis + 1.96*sigma_confiancebisbis}]\"\n",
    ")"
   ]
  },
  {
   "cell_type": "code",
   "execution_count": 159,
   "metadata": {},
   "outputs": [
    {
     "name": "stdout",
     "output_type": "stream",
     "text": [
      "0.1833\n"
     ]
    }
   ],
   "source": [
    "print(len([v for v in Z_dixmille if v >= 525]) / 10000)"
   ]
  },
  {
   "cell_type": "markdown",
   "metadata": {},
   "source": [
    "3. Avec 100000"
   ]
  },
  {
   "cell_type": "code",
   "execution_count": 147,
   "metadata": {},
   "outputs": [
    {
     "data": {
      "text/plain": [
       "(array([1.83442350e-05, 0.00000000e+00, 5.50327049e-05, 9.17211748e-05,\n",
       "        2.38475054e-04, 4.58605874e-04, 1.33912915e-03, 2.86170065e-03,\n",
       "        4.93459920e-03, 9.44728100e-03, 1.51339938e-02, 2.40126036e-02,\n",
       "        3.55327831e-02, 4.87222880e-02, 6.53605091e-02, 8.17419110e-02,\n",
       "        9.90405245e-02, 1.13734257e-01, 1.27492433e-01, 1.36774616e-01,\n",
       "        1.40755315e-01, 1.34499931e-01, 1.30922805e-01, 1.19237527e-01,\n",
       "        1.09056477e-01, 9.40692368e-02, 7.72842619e-02, 6.50486571e-02,\n",
       "        5.27029870e-02, 4.04490381e-02, 2.99011030e-02, 2.17195742e-02,\n",
       "        1.72068924e-02, 1.12266718e-02, 7.35603822e-03, 5.63168013e-03,\n",
       "        3.44871617e-03, 2.53150442e-03, 1.52257150e-03, 1.00893292e-03,\n",
       "        7.15425163e-04, 4.76950109e-04, 2.75163524e-04, 1.46753880e-04,\n",
       "        1.10065410e-04, 7.33769398e-05, 1.83442350e-05, 1.83442350e-05,\n",
       "        0.00000000e+00, 1.83442350e-05]),\n",
       " array([510.83356515, 511.37869554, 511.92382594, 512.46895633,\n",
       "        513.01408672, 513.55921711, 514.10434751, 514.6494779 ,\n",
       "        515.19460829, 515.73973868, 516.28486908, 516.82999947,\n",
       "        517.37512986, 517.92026025, 518.46539065, 519.01052104,\n",
       "        519.55565143, 520.10078182, 520.64591222, 521.19104261,\n",
       "        521.736173  , 522.28130339, 522.82643379, 523.37156418,\n",
       "        523.91669457, 524.46182496, 525.00695536, 525.55208575,\n",
       "        526.09721614, 526.64234653, 527.18747693, 527.73260732,\n",
       "        528.27773771, 528.8228681 , 529.3679985 , 529.91312889,\n",
       "        530.45825928, 531.00338967, 531.54852007, 532.09365046,\n",
       "        532.63878085, 533.18391124, 533.72904164, 534.27417203,\n",
       "        534.81930242, 535.36443281, 535.90956321, 536.4546936 ,\n",
       "        536.99982399, 537.54495438, 538.09008478]),\n",
       " <a list of 50 Patch objects>)"
      ]
     },
     "execution_count": 147,
     "metadata": {},
     "output_type": "execute_result"
    },
    {
     "data": {
      "image/png": "[encoded data removed]",
      "text/plain": [
       "<Figure size 432x288 with 1 Axes>"
      ]
     },
     "metadata": {
      "needs_background": "light"
     },
     "output_type": "display_data"
    }
   ],
   "source": [
    "Z_centmille = tirage(100000)\n",
    "\n",
    "\n",
    "plt.hist(np.array(Z_centmille), bins=50, density=True, label=\"Data\")"
   ]
  },
  {
   "cell_type": "markdown",
   "metadata": {},
   "source": [
    "On remarque que quand le nombre de simulations augmente, la courbe tend vers une gaussienne, ce qui illustre le TCL."
   ]
  },
  {
   "cell_type": "code",
   "execution_count": 161,
   "metadata": {},
   "outputs": [
    {
     "name": "stdout",
     "output_type": "stream",
     "text": [
      "[516.7714134314937 ; 528.1194879799422]\n"
     ]
    }
   ],
   "source": [
    "m_confiancebisbisbis = moyenne(Z_centmille)\n",
    "sigma_confiancebisbisbis = ecartype(Z_centmille)\n",
    "\n",
    "print(\n",
    "    f\"[{m_confiancebisbisbis - 1.96*sigma_confiancebisbisbis} ; {m_confiancebisbisbis + 1.96*sigma_confiancebisbisbis}]\"\n",
    ")"
   ]
  },
  {
   "cell_type": "code",
   "execution_count": 162,
   "metadata": {},
   "outputs": [
    {
     "name": "stdout",
     "output_type": "stream",
     "text": [
      "0.18528\n"
     ]
    }
   ],
   "source": [
    "print(len([v for v in Z_centmille if v >= 525]) / 100000)"
   ]
  },
  {
   "cell_type": "markdown",
   "metadata": {},
   "source": [
    "La probabilité semble se fixer entre 0.18 et 0.19"
   ]
  }
 ],
 "metadata": {
  "@webio": {
   "lastCommId": "5ceb69a5bbd14071b254c2439a58ac4b",
   "lastKernelId": "0e923419-c540-42c1-ab5f-d0e05ff4521c"
  },
  "kernelspec": {
   "display_name": "Python 3",
   "language": "python",
   "name": "python3"
  },
  "language_info": {
   "codemirror_mode": {
    "name": "ipython",
    "version": 3
   },
   "file_extension": ".py",
   "mimetype": "text/x-python",
   "name": "python",
   "nbconvert_exporter": "python",
   "pygments_lexer": "ipython3",
   "version": "3.7.4"
  }
 },
 "nbformat": 4,
 "nbformat_minor": 2
}
